{
 "cells": [
  {
   "cell_type": "markdown",
   "metadata": {},
   "source": [
    "# **ANÁLISIS EXPLORATORIO DE DATOS PARTE 1**\n",
    "\n",
    "1. Funciones de resumen\n",
    "\n",
    "2. Uso de función map\n",
    "\n",
    "3. Uso de función groupby\n",
    "\n",
    "4. Uso de multi-índices\n",
    "\n",
    "5. Uso de la función sort\n",
    "\n",
    "<img src=\"../imgs/foto-dia-03.jpg\" width=\"500px\" height=\"300px\">"
   ]
  },
  {
   "cell_type": "markdown",
   "metadata": {},
   "source": [
    "En la anterior clase aprendimos a seleccionar datos relevantes de un DataFrame o Serie. Extraer los datos correctos de nuestra representación de datos es fundamental para realizar el trabajo, como vimos en los ejercicios.\n",
    "\n",
    "Sin embargo, los datos no siempre están en el formato que deseamos. A veces tenemos que hacer algo más de trabajo nosotros mismos para reformatearlos para la tarea que tenemos entre manos."
   ]
  },
  {
   "cell_type": "code",
   "execution_count": 4,
   "metadata": {},
   "outputs": [
    {
     "data": {
      "text/html": [
       "<div>\n",
       "<style scoped>\n",
       "    .dataframe tbody tr th:only-of-type {\n",
       "        vertical-align: middle;\n",
       "    }\n",
       "\n",
       "    .dataframe tbody tr th {\n",
       "        vertical-align: top;\n",
       "    }\n",
       "\n",
       "    .dataframe thead th {\n",
       "        text-align: right;\n",
       "    }\n",
       "</style>\n",
       "<table border=\"1\" class=\"dataframe\">\n",
       "  <thead>\n",
       "    <tr style=\"text-align: right;\">\n",
       "      <th></th>\n",
       "      <th>Customer ID</th>\n",
       "      <th>Age</th>\n",
       "      <th>Gender</th>\n",
       "      <th>Annual Income</th>\n",
       "      <th>Spending Score</th>\n",
       "    </tr>\n",
       "  </thead>\n",
       "  <tbody>\n",
       "    <tr>\n",
       "      <th>0</th>\n",
       "      <td>d410ea53-6661-42a9-ad3a-f554b05fd2a7</td>\n",
       "      <td>30</td>\n",
       "      <td>Male</td>\n",
       "      <td>151479</td>\n",
       "      <td>89</td>\n",
       "    </tr>\n",
       "    <tr>\n",
       "      <th>1</th>\n",
       "      <td>1770b26f-493f-46b6-837f-4237fb5a314e</td>\n",
       "      <td>58</td>\n",
       "      <td>Female</td>\n",
       "      <td>185088</td>\n",
       "      <td>95</td>\n",
       "    </tr>\n",
       "    <tr>\n",
       "      <th>2</th>\n",
       "      <td>e81aa8eb-1767-4b77-87ce-1620dc732c5e</td>\n",
       "      <td>62</td>\n",
       "      <td>Female</td>\n",
       "      <td>70912</td>\n",
       "      <td>76</td>\n",
       "    </tr>\n",
       "    <tr>\n",
       "      <th>3</th>\n",
       "      <td>9795712a-ad19-47bf-8886-4f997d6046e3</td>\n",
       "      <td>23</td>\n",
       "      <td>Male</td>\n",
       "      <td>55460</td>\n",
       "      <td>57</td>\n",
       "    </tr>\n",
       "    <tr>\n",
       "      <th>4</th>\n",
       "      <td>64139426-2226-4cd6-bf09-91bce4b4db5e</td>\n",
       "      <td>24</td>\n",
       "      <td>Male</td>\n",
       "      <td>153752</td>\n",
       "      <td>76</td>\n",
       "    </tr>\n",
       "    <tr>\n",
       "      <th>...</th>\n",
       "      <td>...</td>\n",
       "      <td>...</td>\n",
       "      <td>...</td>\n",
       "      <td>...</td>\n",
       "      <td>...</td>\n",
       "    </tr>\n",
       "    <tr>\n",
       "      <th>15074</th>\n",
       "      <td>a0504768-a85f-4930-ac24-55bc8e4fec9e</td>\n",
       "      <td>29</td>\n",
       "      <td>Female</td>\n",
       "      <td>97723</td>\n",
       "      <td>30</td>\n",
       "    </tr>\n",
       "    <tr>\n",
       "      <th>15075</th>\n",
       "      <td>a08c4e0e-d1fe-48e7-9366-aab11ae409cd</td>\n",
       "      <td>22</td>\n",
       "      <td>Male</td>\n",
       "      <td>73361</td>\n",
       "      <td>74</td>\n",
       "    </tr>\n",
       "    <tr>\n",
       "      <th>15076</th>\n",
       "      <td>0e87c25a-268c-401a-8ba1-7111dcde6f1a</td>\n",
       "      <td>18</td>\n",
       "      <td>Female</td>\n",
       "      <td>112337</td>\n",
       "      <td>48</td>\n",
       "    </tr>\n",
       "    <tr>\n",
       "      <th>15077</th>\n",
       "      <td>5f388cbe-3373-4e16-b743-38f508f2249f</td>\n",
       "      <td>26</td>\n",
       "      <td>Female</td>\n",
       "      <td>94312</td>\n",
       "      <td>5</td>\n",
       "    </tr>\n",
       "    <tr>\n",
       "      <th>15078</th>\n",
       "      <td>b8b8f561-ebca-4401-8afe-544c906554ba</td>\n",
       "      <td>19</td>\n",
       "      <td>Male</td>\n",
       "      <td>78045</td>\n",
       "      <td>2</td>\n",
       "    </tr>\n",
       "  </tbody>\n",
       "</table>\n",
       "<p>15079 rows × 5 columns</p>\n",
       "</div>"
      ],
      "text/plain": [
       "                                Customer ID  Age  Gender  Annual Income  \\\n",
       "0      d410ea53-6661-42a9-ad3a-f554b05fd2a7   30    Male         151479   \n",
       "1      1770b26f-493f-46b6-837f-4237fb5a314e   58  Female         185088   \n",
       "2      e81aa8eb-1767-4b77-87ce-1620dc732c5e   62  Female          70912   \n",
       "3      9795712a-ad19-47bf-8886-4f997d6046e3   23    Male          55460   \n",
       "4      64139426-2226-4cd6-bf09-91bce4b4db5e   24    Male         153752   \n",
       "...                                     ...  ...     ...            ...   \n",
       "15074  a0504768-a85f-4930-ac24-55bc8e4fec9e   29  Female          97723   \n",
       "15075  a08c4e0e-d1fe-48e7-9366-aab11ae409cd   22    Male          73361   \n",
       "15076  0e87c25a-268c-401a-8ba1-7111dcde6f1a   18  Female         112337   \n",
       "15077  5f388cbe-3373-4e16-b743-38f508f2249f   26  Female          94312   \n",
       "15078  b8b8f561-ebca-4401-8afe-544c906554ba   19    Male          78045   \n",
       "\n",
       "       Spending Score  \n",
       "0                  89  \n",
       "1                  95  \n",
       "2                  76  \n",
       "3                  57  \n",
       "4                  76  \n",
       "...               ...  \n",
       "15074              30  \n",
       "15075              74  \n",
       "15076              48  \n",
       "15077               5  \n",
       "15078               2  \n",
       "\n",
       "[15079 rows x 5 columns]"
      ]
     },
     "execution_count": 4,
     "metadata": {},
     "output_type": "execute_result"
    }
   ],
   "source": [
    "import pandas as pd\n",
    "\n",
    "compras = pd.read_csv(\"datasets/compras_centro_comercial.csv\")\n",
    "\n",
    "compras"
   ]
  },
  {
   "cell_type": "markdown",
   "metadata": {},
   "source": [
    "### **1. Funciones de resumen**"
   ]
  },
  {
   "cell_type": "markdown",
   "metadata": {},
   "source": [
    "Pandas proporciona muchas \"funciones de resumen\" simples (no es un nombre oficial) que reestructuran los datos de alguna manera útil. Por ejemplo, el método describe():"
   ]
  },
  {
   "cell_type": "code",
   "execution_count": null,
   "metadata": {},
   "outputs": [],
   "source": [
    "compras[\"Annual Income\"].describe()"
   ]
  },
  {
   "cell_type": "markdown",
   "metadata": {},
   "source": [
    "Este método genera un resumen de estadísticas de los atributos de la columna dada. Su salida cambia en función del tipo de datos de entrada. La salida anterior sólo tiene sentido para datos numéricos; para datos de string esto es lo que obtenemos:"
   ]
  },
  {
   "cell_type": "code",
   "execution_count": null,
   "metadata": {},
   "outputs": [],
   "source": [
    "compras[\"Gender\"].describe()"
   ]
  },
  {
   "cell_type": "markdown",
   "metadata": {},
   "source": [
    "Si deseas obtener alguna estadística de resumen simple sobre una columna en un DataFrame o una Serie, normalmente hay una función de pandas útil que lo hace posible.\n",
    "\n",
    "Por ejemplo, para ver la media de los ingresos anuales de los compradores, podemos usar la función mean():"
   ]
  },
  {
   "cell_type": "code",
   "execution_count": null,
   "metadata": {},
   "outputs": [],
   "source": [
    "compras[\"Annual Income\"].mean()"
   ]
  },
  {
   "cell_type": "markdown",
   "metadata": {},
   "source": [
    "Para ver una lista de valores únicos, podemos utilizar el método unique():"
   ]
  },
  {
   "cell_type": "code",
   "execution_count": null,
   "metadata": {},
   "outputs": [],
   "source": [
    "compras[\"Gender\"].unique()"
   ]
  },
  {
   "cell_type": "markdown",
   "metadata": {},
   "source": [
    "Para ver una lista de valores únicos y la frecuencia con la que aparecen en el conjunto de datos, podemos utilizar el método value_counts():"
   ]
  },
  {
   "cell_type": "code",
   "execution_count": null,
   "metadata": {},
   "outputs": [],
   "source": [
    "compras[\"Age\"].value_counts()"
   ]
  },
  {
   "cell_type": "markdown",
   "metadata": {},
   "source": [
    "### **2. Uso de función map**"
   ]
  },
  {
   "cell_type": "markdown",
   "metadata": {},
   "source": [
    "Un mapa es un término, tomado de las matemáticas, para una función que toma un conjunto de valores y los \"mapea\" a otro conjunto de valores. En la ciencia de datos, a menudo necesitamos crear nuevas representaciones a partir de datos existentes, o transformar datos del formato actual al formato que queremos que tengan más adelante. Los mapas son los que se encargan de este trabajo, por lo que son extremadamente importantes para realizarlo.\n",
    "\n",
    "Hay dos métodos de mapeo que usarás a menudo.\n",
    "\n",
    "map() es el primero, y ligeramente más simple.\n",
    "\n",
    "Por ejemplo, imáginate que queremos normalizar el valor del campo `Annual Income` en función de la media, de este modo los salarios que sean negativos serán los que estén por debajo de la media y viceversa."
   ]
  },
  {
   "cell_type": "code",
   "execution_count": 6,
   "metadata": {},
   "outputs": [
    {
     "data": {
      "text/plain": [
       "0        41736.119438\n",
       "1        75345.119438\n",
       "2       -38830.880562\n",
       "3       -54282.880562\n",
       "4        44009.119438\n",
       "             ...     \n",
       "15074   -12019.880562\n",
       "15075   -36381.880562\n",
       "15076     2594.119438\n",
       "15077   -15430.880562\n",
       "15078   -31697.880562\n",
       "Name: Annual Income, Length: 15079, dtype: float64"
      ]
     },
     "execution_count": 6,
     "metadata": {},
     "output_type": "execute_result"
    }
   ],
   "source": [
    "media_salario = compras['Annual Income'].mean()\n",
    "compras[\"Annual Income\"].map(lambda salario: salario - media_salario )"
   ]
  },
  {
   "cell_type": "markdown",
   "metadata": {},
   "source": [
    "La función que se le pasa a map() debe esperar un único valor de la Serie (un valor de salario, en el ejemplo anterior), y devolver una versión transformada de ese valor. map() devuelve una nueva Serie en la que todos los valores han sido transformados por su función.\n",
    "\n",
    "apply() es el método equivalente si queremos transformar todo un DataFrame llamando a un método personalizado en cada fila."
   ]
  },
  {
   "cell_type": "code",
   "execution_count": null,
   "metadata": {},
   "outputs": [],
   "source": [
    "def normalizar_puntuacion_compra(row):\n",
    "    row['Spending Score'] = row['Spending Score'] // 10\n",
    "    return row\n",
    "\n",
    "compras.apply(normalizar_puntuacion_compra, axis='columns')\n"
   ]
  },
  {
   "cell_type": "markdown",
   "metadata": {},
   "source": [
    "Si hubierámos llamado a compras.apply() con axis='index', entonces en lugar de pasar una función para transformar cada fila, tendríamos que dar una función para transformar cada columna.\n",
    "\n",
    "Date cuenta que map() y apply() devuelven Series y DataFrames nuevos y transformados, respectivamente. No modifican los datos originales."
   ]
  },
  {
   "cell_type": "code",
   "execution_count": null,
   "metadata": {},
   "outputs": [],
   "source": [
    "def suma_valores(column):\n",
    "    if column.dtype == \"int64\":\n",
    "        column = column - 100\n",
    "    if column.dtype == \"object\":\n",
    "        column = column.str.upper()\n",
    "    return column \n",
    "\n",
    "compras.apply(suma_valores, axis='index')"
   ]
  },
  {
   "cell_type": "markdown",
   "metadata": {},
   "source": [
    "### **3. Uso de función groupby**"
   ]
  },
  {
   "cell_type": "markdown",
   "metadata": {},
   "source": [
    "Los mapas nos permiten transformar los datos en un DataFrame o Serie un valor a la vez para una columna entera. Sin embargo, a menudo queremos agrupar nuestros datos, y luego hacer algo específico para el grupo en el que se encuentran los datos.\n",
    "\n",
    "Para esto tenemos la operación groupby()."
   ]
  },
  {
   "cell_type": "code",
   "execution_count": null,
   "metadata": {},
   "outputs": [],
   "source": [
    "compras.groupby(\"Gender\").Gender.count()"
   ]
  },
  {
   "cell_type": "markdown",
   "metadata": {},
   "source": [
    "La función groupby() internamente crea un grupo de compras que comparten el mismo valor para la columna `gender`. A continuación, para cada uno de estos grupos, tomamos la columna gender() y contamos cuántas veces aparecía. value_counts() es sólo un atajo para esta operación groupby().\n",
    "\n",
    "Podemos utilizar cualquiera de las funciones de resumen que hemos utilizado antes con estos datos. Por ejemplo, para obtener el salario mínimo que cobran las mujeres y hombres podemos hacer lo siguiente:"
   ]
  },
  {
   "cell_type": "code",
   "execution_count": null,
   "metadata": {},
   "outputs": [],
   "source": [
    "compras.groupby(\"Gender\")[\"Annual Income\"].min()\n",
    "compras.groupby(\"Gender\")[\"Annual Income\"].max()"
   ]
  },
  {
   "cell_type": "markdown",
   "metadata": {},
   "source": [
    "Se puede pensar en cada grupo que generamos como una porción de nuestro DataFrame que contiene sólo datos con valores que coinciden. Podemos acceder directamente a este DataFrame utilizando el método apply(), y podemos manipular los datos de la forma que creamos conveniente. Por ejemplo, si queremos obtener el primer salario del primer hombre y de la primera mujer podemos hacer lo siguiente."
   ]
  },
  {
   "cell_type": "code",
   "execution_count": null,
   "metadata": {},
   "outputs": [],
   "source": [
    "compras.groupby(\"Gender\").apply(lambda df : df[\"Annual Income\"].iloc[0])"
   ]
  },
  {
   "cell_type": "markdown",
   "metadata": {},
   "source": [
    "Para un control aún más preciso, también se puede agrupar por más de una columna. Por ejemplo, así es como seleccionaríamos los salarios mínimos y máximos agrupados por género y edad:"
   ]
  },
  {
   "cell_type": "code",
   "execution_count": null,
   "metadata": {},
   "outputs": [],
   "source": [
    "compras.groupby([\"Age\", \"Gender\"])[\"Annual Income\"].min().head(50)\n",
    "compras.groupby([\"Age\", \"Gender\"])[\"Annual Income\"].min().head(50)"
   ]
  },
  {
   "cell_type": "markdown",
   "metadata": {},
   "source": [
    "Otro método groupby() digno de mención es agg(), que te permite ejecutar un montón de funciones diferentes en el DataFrame simultáneamente. Por ejemplo, podemos generar un simple resumen estadístico del conjunto de datos de la siguiente manera:"
   ]
  },
  {
   "cell_type": "code",
   "execution_count": null,
   "metadata": {},
   "outputs": [],
   "source": [
    "compras.groupby(['Gender'])['Annual Income'].agg([len, min, max])"
   ]
  },
  {
   "cell_type": "markdown",
   "metadata": {},
   "source": [
    "### **4. Uso de multi-índices**"
   ]
  },
  {
   "cell_type": "markdown",
   "metadata": {},
   "source": [
    "En todos los ejemplos que hemos visto hasta ahora hemos estado trabajando con objetos DataFrame o Series con un índice de una sola etiqueta. groupby() es ligeramente diferente en el hecho de que, dependiendo de la operación que ejecutemos, a veces dará como resultado lo que se denomina un multi-índice.\n",
    "\n",
    "Un multi-índice difiere de un índice normal en que tiene varios niveles. Por ejemplo:"
   ]
  },
  {
   "cell_type": "code",
   "execution_count": null,
   "metadata": {},
   "outputs": [],
   "source": [
    "salario_por_edad_y_genero = compras.groupby([\"Age\", \"Gender\"])[\"Annual Income\"].min().head(50)\n",
    "salario_por_edad_y_genero\n",
    "\n",
    "index = salario_por_edad_y_genero.index\n",
    "\n",
    "type(index)"
   ]
  },
  {
   "cell_type": "markdown",
   "metadata": {},
   "source": [
    "Los índices múltiples disponen de varios métodos para tratar su estructura escalonada que no existen en los índices de un solo nivel. También requieren dos niveles de etiquetas para recuperar un valor. Es un poco complicado al principio tratar con estas estructuras.\n",
    "\n",
    "Los casos de uso de un multi-índice se detallan en la documentación de Pandas: https://pandas.pydata.org/pandas-docs/stable/user_guide/advanced.html.\n",
    "\n",
    "Sin embargo, en general, el método multi-índice que se utiliza más a menudo es el que permite volver a un índice normal, el método reset_index():"
   ]
  },
  {
   "cell_type": "code",
   "execution_count": null,
   "metadata": {},
   "outputs": [],
   "source": [
    "salario_por_edad_y_genero.reset_index()"
   ]
  },
  {
   "cell_type": "markdown",
   "metadata": {},
   "source": [
    "### **5. Uso de función sort**"
   ]
  },
  {
   "cell_type": "markdown",
   "metadata": {},
   "source": [
    "Observando de nuevo el dataframe de `salario_por_edad_y_genero` podemos ver que la agrupación devuelve los datos en orden de índice, no en orden de valor. Es decir, al mostrar el resultado de un groupby, el orden de las filas depende de los valores del índice, no de los datos.\n",
    "\n",
    "El método sort_values() es útil para esto. sort_values() utiliza por defecto una ordenación ascendente, en la que los valores más bajos van primero. Sin embargo, la mayoría de las veces queremos una ordenación descendente, donde los números más altos van primero, con el parámetro `ascending=False` lo conseguimos.\n",
    "\n",
    "Por ejemplo, para obtener los datos de media de salario agrupados por edad y género podemos hacer lo siguiente."
   ]
  },
  {
   "cell_type": "code",
   "execution_count": null,
   "metadata": {},
   "outputs": [],
   "source": [
    "media_salario_agg = compras.groupby(['Age', 'Gender'])[\"Annual Income\"].mean().reset_index()\n",
    "\n",
    "media_salario_agg.sort_values(by=\"Annual Income\", ascending=False)"
   ]
  },
  {
   "cell_type": "markdown",
   "metadata": {},
   "source": [
    "Para ordenar por valores de índice, utilizamos el método complementario sort_index(). Este método tiene los mismos argumentos y orden por defecto:"
   ]
  },
  {
   "cell_type": "code",
   "execution_count": null,
   "metadata": {},
   "outputs": [],
   "source": [
    "media_salario_agg.sort_index()"
   ]
  },
  {
   "cell_type": "markdown",
   "metadata": {},
   "source": [
    "Por último, también podemos ordenar por más de una columna a la vez:"
   ]
  },
  {
   "cell_type": "code",
   "execution_count": null,
   "metadata": {},
   "outputs": [],
   "source": [
    "media_salario_agg.sort_values(by=[\"Age\", \"Annual Income\"], ascending=False)"
   ]
  }
 ],
 "metadata": {
  "kernelspec": {
   "display_name": "Python [conda env:base] *",
   "language": "python",
   "name": "conda-base-py"
  },
  "language_info": {
   "codemirror_mode": {
    "name": "ipython",
    "version": 3
   },
   "file_extension": ".py",
   "mimetype": "text/x-python",
   "name": "python",
   "nbconvert_exporter": "python",
   "pygments_lexer": "ipython3",
   "version": "3.12.7"
  }
 },
 "nbformat": 4,
 "nbformat_minor": 4
}
